{
 "cells": [
  {
   "attachments": {},
   "cell_type": "markdown",
   "metadata": {},
   "source": [
    "Load dataset\n"
   ]
  },
  {
   "cell_type": "code",
   "execution_count": 1,
   "metadata": {},
   "outputs": [],
   "source": [
    "import pandas as pd\n",
    "import numpy as np\n",
    "\n",
    "train_df = pd.read_csv(r'dataset/train-0.csv', header=None, skiprows=1)\n",
    "val_df = pd.read_csv(r'dataset/file-0.csv', header=None, skiprows=1)\n",
    "test_df = pd.read_csv(r'dataset/file-1.csv', header=None, skiprows=1)\n",
    "\n",
    "train_x = np.array(train_df.iloc[:, 3:])\n",
    "train_y = np.array(train_df.iloc[:, 2])\n",
    "\n",
    "val_x = np.array(val_df.iloc[:, 3:])\n",
    "val_y = np.array(val_df.iloc[:, 2])\n",
    "\n",
    "test_x = np.array(test_df.iloc[:, 3:])\n",
    "test_y = np.array(test_df.iloc[:, 2])\n"
   ]
  },
  {
   "attachments": {},
   "cell_type": "markdown",
   "metadata": {},
   "source": [
    "Random Forest Classifier\n"
   ]
  },
  {
   "cell_type": "code",
   "execution_count": 3,
   "metadata": {},
   "outputs": [
    {
     "name": "stdout",
     "output_type": "stream",
     "text": [
      "RFC10: 0.944947209653092\n",
      "RFC50: 0.9698340874811463\n"
     ]
    }
   ],
   "source": [
    "from sklearn.ensemble import RandomForestClassifier\n",
    "from sklearn.metrics import accuracy_score\n",
    "\n",
    "model_rfc10 = RandomForestClassifier(max_depth=10)\n",
    "history_rfc10 = model_rfc10.fit(train_x, train_y)\n",
    "y_pred_vc = model_rfc10.predict(test_x)\n",
    "accuracy = accuracy_score(test_y, y_pred_vc)\n",
    "print(\"RFC10:\", accuracy)\n",
    "\n",
    "model_rfc50 = RandomForestClassifier(max_depth=50)\n",
    "history_rfc50 = model_rfc50.fit(train_x, train_y)\n",
    "y_pred_vc = model_rfc50.predict(test_x)\n",
    "accuracy = accuracy_score(test_y, y_pred_vc)\n",
    "print(\"RFC50:\", accuracy)\n"
   ]
  },
  {
   "attachments": {},
   "cell_type": "markdown",
   "metadata": {},
   "source": [
    "Decision Tree Classifier"
   ]
  },
  {
   "cell_type": "code",
   "execution_count": 7,
   "metadata": {},
   "outputs": [
    {
     "name": "stdout",
     "output_type": "stream",
     "text": [
      "DTC: 0.9419306184012066\n"
     ]
    }
   ],
   "source": [
    "from sklearn.tree import DecisionTreeClassifier\n",
    "\n",
    "tree_clf = DecisionTreeClassifier(max_depth=50)\n",
    "history_tree_clf = tree_clf.fit(train_x, train_y)\n",
    "y_pred_vc = history_tree_clf.predict(test_x)\n",
    "accuracy = accuracy_score(test_y, y_pred_vc)\n",
    "print(\"DTC:\", accuracy)\n"
   ]
  }
 ],
 "metadata": {
  "kernelspec": {
   "display_name": ".venv",
   "language": "python",
   "name": "python3"
  },
  "language_info": {
   "codemirror_mode": {
    "name": "ipython",
    "version": 3
   },
   "file_extension": ".py",
   "mimetype": "text/x-python",
   "name": "python",
   "nbconvert_exporter": "python",
   "pygments_lexer": "ipython3",
   "version": "3.9.6"
  },
  "orig_nbformat": 4
 },
 "nbformat": 4,
 "nbformat_minor": 2
}
