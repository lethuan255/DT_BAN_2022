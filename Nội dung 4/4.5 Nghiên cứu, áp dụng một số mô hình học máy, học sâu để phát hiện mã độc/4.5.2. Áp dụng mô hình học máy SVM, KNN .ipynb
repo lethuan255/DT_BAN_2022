{
 "cells": [
  {
   "attachments": {},
   "cell_type": "markdown",
   "metadata": {},
   "source": [
    "Load dataset\n"
   ]
  },
  {
   "cell_type": "code",
   "execution_count": 1,
   "metadata": {},
   "outputs": [],
   "source": [
    "import pandas as pd\n",
    "import numpy as np\n",
    "\n",
    "train_df = pd.read_csv(r'dataset/train-0.csv', header=None, skiprows=1)\n",
    "val_df = pd.read_csv(r'dataset/file-0.csv', header=None, skiprows=1)\n",
    "test_df = pd.read_csv(r'dataset/file-1.csv', header=None, skiprows=1)\n",
    "\n",
    "train_x = np.array(train_df.iloc[:, 3:])\n",
    "train_y = np.array(train_df.iloc[:, 2])\n",
    "\n",
    "val_x = np.array(val_df.iloc[:, 3:])\n",
    "val_y = np.array(val_df.iloc[:, 2])\n",
    "\n",
    "test_x = np.array(test_df.iloc[:, 3:])\n",
    "test_y = np.array(test_df.iloc[:, 2])"
   ]
  },
  {
   "attachments": {},
   "cell_type": "markdown",
   "metadata": {},
   "source": [
    "SVM"
   ]
  },
  {
   "cell_type": "code",
   "execution_count": 3,
   "metadata": {},
   "outputs": [
    {
     "name": "stdout",
     "output_type": "stream",
     "text": [
      "SVM: 0.9890648567119156\n"
     ]
    }
   ],
   "source": [
    "from sklearn.svm import SVC\n",
    "from sklearn.metrics import accuracy_score\n",
    "\n",
    "model = SVC(kernel='linear', probability=True)\n",
    "model.fit(train_x, train_y)\n",
    "y_pred_vc = model.predict(test_x)\n",
    "accuracy = accuracy_score(test_y, y_pred_vc)\n",
    "print(\"SVM:\", accuracy)"
   ]
  },
  {
   "attachments": {},
   "cell_type": "markdown",
   "metadata": {},
   "source": [
    "KNN"
   ]
  },
  {
   "cell_type": "code",
   "execution_count": 2,
   "metadata": {},
   "outputs": [
    {
     "name": "stdout",
     "output_type": "stream",
     "text": [
      "KNN: 0.8159879336349924\n"
     ]
    }
   ],
   "source": [
    "from sklearn.neighbors import KNeighborsClassifier\n",
    "from sklearn.metrics import accuracy_score\n",
    "\n",
    "neigh = KNeighborsClassifier(n_neighbors=228)\n",
    "neigh.fit(train_x, train_y)\n",
    "y_pred_vc = neigh.predict(test_x)\n",
    "accuracy = accuracy_score(test_y, y_pred_vc)\n",
    "print(\"KNN:\", accuracy)"
   ]
  }
 ],
 "metadata": {
  "kernelspec": {
   "display_name": ".venv",
   "language": "python",
   "name": "python3"
  },
  "language_info": {
   "codemirror_mode": {
    "name": "ipython",
    "version": 3
   },
   "file_extension": ".py",
   "mimetype": "text/x-python",
   "name": "python",
   "nbconvert_exporter": "python",
   "pygments_lexer": "ipython3",
   "version": "3.9.6"
  },
  "orig_nbformat": 4
 },
 "nbformat": 4,
 "nbformat_minor": 2
}
