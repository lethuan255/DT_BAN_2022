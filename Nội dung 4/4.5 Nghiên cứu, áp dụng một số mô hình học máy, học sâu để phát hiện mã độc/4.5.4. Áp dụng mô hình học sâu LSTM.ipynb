{
 "cells": [
  {
   "cell_type": "markdown",
   "metadata": {},
   "source": [
    "# Deep LSTM based Malware Analysis"
   ]
  },
  {
   "cell_type": "markdown",
   "metadata": {},
   "source": [
    "## Deep learning based Sequential model for malware analysis using Windows exe API Calls"
   ]
  },
  {
   "cell_type": "markdown",
   "metadata": {},
   "source": [
    "Malware development has seen diversity in terms of architecture and features. This advancement in the competencies of malware poses a severe threat and opens new research dimensions in malware detection. This study is focused on metamorphic malware that is the most advanced member of the malware family. It is quite impossible for anti-virus applications using traditional signature-based methods to detect metamorphic malware, which makes it difficult to classify this type of malware accordingly. Recent research literature about malware detection and classification discusses this issue related to malware behavior."
   ]
  },
  {
   "cell_type": "markdown",
   "metadata": {},
   "source": [
    "**Cite The DataSet**  \n",
    "If you find this implementation useful please cite it:\n",
    "\n",
    "    @article{catak_lstm2020,\n",
    "      author  = {Ferhat Ozgur Catak}, \n",
    "      title   = {Deep learning based Sequential model for malware analysis using Windows exe API Calls},\n",
    "      journal = {Peerj Computer Science},\n",
    "      year    = 2020,\n",
    "      pages   = {1-17},\n",
    "      month   = 7\n",
    "    }\n",
    "  \n",
    "You can access the dataset from my  [My GitHub Repository](https://github.com/ocatak/lstm_malware_detection)."
   ]
  },
  {
   "cell_type": "markdown",
   "metadata": {},
   "source": [
    "## Introduction"
   ]
  },
  {
   "cell_type": "markdown",
   "metadata": {},
   "source": [
    "Malicious software, commonly known as malware, is any software intentionally designed to cause damage to computer systems and compromise user security. An application or code is considered malware if it secretly acts against the interests of the computer user and performs malicious activities. Malware targets various platforms such as servers, personal computers, mobile phones, and cameras to gain unauthorized access, steal personal data, and disrupt the normal function of the system. \n",
    "\n",
    "One approach to deal with malware protection problem is by identifying the malicious software and evaluating its behavior. Usually, this problem is solved through the analysis of malware behavior. This field closely follows the model of malicious software family, which also reflects the pattern of malicious behavior. There are very few studies that have demonstrated the methods of classification according to the malware families.\n",
    "\n",
    "All operating system API calls made to act by any software show the overall direction of this program. Whether this program is malware or not can be learned by examining these actions in-depth. If it is malware, then what is its malware family. The malware-made operating system API call is a data attribute, and the sequence in which those API calls are generated is also critical to detect the malware family. Performing specific API calls is a particular order that represents a behavior. One of the deep learning methods LSTM (long-short term memory) has been commonly used in the processing of such time-sequential data."
   ]
  },
  {
   "cell_type": "markdown",
   "metadata": {},
   "source": [
    "## System Architecture"
   ]
  },
  {
   "cell_type": "markdown",
   "metadata": {},
   "source": [
    "This research has two main objectives; first, we created a relevant dataset, and then, using this dataset, we did a comparative study using various machine learning to detect and classify malware automatically based on their types."
   ]
  },
  {
   "cell_type": "markdown",
   "metadata": {},
   "source": [
    "### Dataset Creation"
   ]
  },
  {
   "cell_type": "markdown",
   "metadata": {},
   "source": [
    "One of the most important contributions of this work is the new Windows PE Malware API sequence dataset, which contains malware analysis information. There are 7107 malware from different classes in this dataset. The Cuckoo Sandbox application, as explained above, is used to obtain the Windows API call sequences of malicious software, and VirusTotal Service is used to detect the classes of malware.\n",
    "\n",
    "The following figure illustrates the system architecture used to collect the data and to classify them using LSTM algorithms.\n",
    "![Malware dataset](fig-1.png)\n",
    "\n",
    "Our system consists of three main parts, data collection, data pre-processing and analyses, and data classification.\n",
    "\n",
    "The following steps were followed when creating the dataset.\n",
    "\n",
    "Cuckoo Sandbox application is installed on a computer running Ubuntu Linux distribution. The analysis machine was run as a virtual server to run and analyze malware. The Windows operating system is installed on this server."
   ]
  },
  {
   "cell_type": "markdown",
   "metadata": {},
   "source": [
    "## Let’s coding\n",
    "We import the usual standard libraries to build an LSTM model to detect the malware."
   ]
  },
  {
   "cell_type": "code",
   "execution_count": 1,
   "metadata": {},
   "outputs": [],
   "source": [
    "import pandas as pd\n",
    "import matplotlib.pyplot as plt\n",
    "import seaborn as sns\n",
    "from sklearn.preprocessing import LabelEncoder\n",
    "from sklearn.model_selection import train_test_split\n",
    "from sklearn.metrics import confusion_matrix\n",
    "from keras.preprocessing.text import Tokenizer\n",
    "from keras.layers import LSTM, Dense, Dropout, Embedding\n",
    "from keras.preprocessing import sequence\n",
    "from keras.utils import np_utils\n",
    "from keras.models import Sequential\n",
    "from keras.layers import SpatialDropout1D\n",
    "from mlxtend.plotting import plot_confusion_matrix"
   ]
  },
  {
   "cell_type": "markdown",
   "metadata": {},
   "source": [
    "In this work, we will use standard our malware dataset to show the results. You can access the dataset from [My GitHub Repository](https://github.com/ocatak/lstm_malware_detection). We need to merge the call and the label datasets."
   ]
  },
  {
   "cell_type": "code",
   "execution_count": 2,
   "metadata": {},
   "outputs": [],
   "source": [
    "malware_calls_df = pd.read_csv(\"calls.zip\", compression=\"zip\",\n",
    "                               sep=\"\\t\", names=[\"API_Calls\"])\n",
    "\n",
    "malware_labels_df = pd.read_csv(\"types.zip\", compression=\"zip\",\n",
    "                                sep=\"\\t\", names=[\"API_Labels\"])\n",
    "\n",
    "malware_calls_df[\"API_Labels\"] = malware_labels_df.API_Labels\n",
    "malware_calls_df[\"API_Calls\"] = malware_calls_df.API_Calls.apply(lambda x: \" \".join(x.split(\",\")))\n",
    "\n",
    "malware_calls_df[\"API_Labels\"] = malware_calls_df.API_Labels.apply(lambda x: 1 if x == \"Virus\" else 0)"
   ]
  },
  {
   "cell_type": "markdown",
   "metadata": {},
   "source": [
    "Let's analyze the class distribution"
   ]
  },
  {
   "cell_type": "code",
   "execution_count": 15,
   "metadata": {},
   "outputs": [
    {
     "data": {
      "image/png": "[encoded data removed]",
      "text/plain": [
       "<Figure size 432x288 with 1 Axes>"
      ]
     },
     "metadata": {
      "needs_background": "light"
     },
     "output_type": "display_data"
    }
   ],
   "source": [
    "sns.countplot(malware_calls_df.API_Labels)\n",
    "plt.xlabel('Labels')\n",
    "plt.title('Class distribution')\n",
    "plt.savefig(\"class_distribution.png\")\n",
    "plt.show()"
   ]
  },
  {
   "cell_type": "markdown",
   "metadata": {},
   "source": [
    "![Class distribution](class_distribution.png)"
   ]
  },
  {
   "cell_type": "markdown",
   "metadata": {},
   "source": [
    "Now we can create our sequence matrix. In order to build an LSTM model, you need to create a tokenization based sequence matrix as the input dataset"
   ]
  },
  {
   "cell_type": "code",
   "execution_count": 4,
   "metadata": {},
   "outputs": [
    {
     "name": "stdout",
     "output_type": "stream",
     "text": [
      "Found 278 unique tokens.\n",
      "Shape of data tensor: (7107, 100)\n"
     ]
    }
   ],
   "source": [
    "max_words = 800\n",
    "max_len = 100\n",
    "\n",
    "X = malware_calls_df.API_Calls\n",
    "Y = malware_calls_df.API_Labels.astype('category').cat.codes\n",
    "\n",
    "tok = Tokenizer(num_words=max_words)\n",
    "tok.fit_on_texts(X)\n",
    "print('Found %s unique tokens.' % len(tok.word_index))\n",
    "X = tok.texts_to_sequences(X.values)\n",
    "X = sequence.pad_sequences(X, maxlen=max_len)\n",
    "print('Shape of data tensor:', X.shape)\n",
    "\n",
    "X_train, X_test, Y_train, Y_test = train_test_split(X, Y,\n",
    "                                                    test_size=0.15)\n",
    "\n",
    "le = LabelEncoder()\n",
    "Y_train_enc = le.fit_transform(Y_train)\n",
    "Y_train_enc = np_utils.to_categorical(Y_train_enc)\n",
    "\n",
    "Y_test_enc = le.transform(Y_test)\n",
    "Y_test_enc = np_utils.to_categorical(Y_test_enc)"
   ]
  },
  {
   "cell_type": "markdown",
   "metadata": {},
   "source": [
    "The LSTM based classification model is then given for example as exercise here:"
   ]
  },
  {
   "cell_type": "code",
   "execution_count": 5,
   "metadata": {},
   "outputs": [],
   "source": [
    "def malware_model(act_func=\"softsign\"):\n",
    "    model = Sequential()\n",
    "    model.add(Embedding(max_words, 300, input_length=max_len))\n",
    "    model.add(SpatialDropout1D(0.1))\n",
    "    model.add(LSTM(32, dropout=0.1, recurrent_dropout=0.1,\n",
    "                   return_sequences=True, activation=act_func))\n",
    "    model.add(LSTM(32, dropout=0.1, activation=act_func, return_sequences=True))\n",
    "    model.add(LSTM(32, dropout=0.1, activation=act_func))\n",
    "    model.add(Dense(128, activation=act_func))\n",
    "    model.add(Dropout(0.1))\n",
    "    model.add(Dense(256, activation=act_func))\n",
    "    model.add(Dropout(0.1))\n",
    "    model.add(Dense(128, activation=act_func))\n",
    "    model.add(Dropout(0.1))\n",
    "    model.add(Dense(1, name='out_layer', activation=\"linear\"))\n",
    "    return model"
   ]
  },
  {
   "cell_type": "markdown",
   "metadata": {},
   "source": [
    "The next step is to train the model. I trained and saved my model. Because of the dataset, the training stage take lots of time. In order to reduce the execution time you can load my previous trained model from the GitHub repository."
   ]
  },
  {
   "cell_type": "code",
   "execution_count": 6,
   "metadata": {},
   "outputs": [
    {
     "name": "stdout",
     "output_type": "stream",
     "text": [
      "Model: \"sequential\"\n",
      "_________________________________________________________________\n",
      "Layer (type)                 Output Shape              Param #   \n",
      "=================================================================\n",
      "embedding (Embedding)        (None, 100, 300)          240000    \n",
      "_________________________________________________________________\n",
      "spatial_dropout1d (SpatialDr (None, 100, 300)          0         \n",
      "_________________________________________________________________\n",
      "lstm (LSTM)                  (None, 100, 32)           42624     \n",
      "_________________________________________________________________\n",
      "lstm_1 (LSTM)                (None, 100, 32)           8320      \n",
      "_________________________________________________________________\n",
      "lstm_2 (LSTM)                (None, 32)                8320      \n",
      "_________________________________________________________________\n",
      "dense (Dense)                (None, 128)               4224      \n",
      "_________________________________________________________________\n",
      "dropout (Dropout)            (None, 128)               0         \n",
      "_________________________________________________________________\n",
      "dense_1 (Dense)              (None, 256)               33024     \n",
      "_________________________________________________________________\n",
      "dropout_1 (Dropout)          (None, 256)               0         \n",
      "_________________________________________________________________\n",
      "dense_2 (Dense)              (None, 128)               32896     \n",
      "_________________________________________________________________\n",
      "dropout_2 (Dropout)          (None, 128)               0         \n",
      "_________________________________________________________________\n",
      "out_layer (Dense)            (None, 1)                 129       \n",
      "=================================================================\n",
      "Total params: 369,537\n",
      "Trainable params: 369,537\n",
      "Non-trainable params: 0\n",
      "_________________________________________________________________\n",
      "None\n",
      "Epoch 1/10\n",
      "7/7 [==============================] - 22s 3s/step - loss: 0.0486 - accuracy: 0.9487 - val_loss: 0.0311 - val_accuracy: 0.9672\n",
      "Epoch 2/10\n",
      "7/7 [==============================] - 21s 3s/step - loss: 0.0378 - accuracy: 0.9591 - val_loss: 0.0302 - val_accuracy: 0.9672\n",
      "Epoch 3/10\n",
      "7/7 [==============================] - 21s 3s/step - loss: 0.0364 - accuracy: 0.9604 - val_loss: 0.0362 - val_accuracy: 0.9625\n",
      "Epoch 4/10\n",
      "7/7 [==============================] - 20s 3s/step - loss: 0.0378 - accuracy: 0.9593 - val_loss: 0.0328 - val_accuracy: 0.9616\n",
      "Epoch 5/10\n",
      "7/7 [==============================] - 22s 3s/step - loss: 0.0365 - accuracy: 0.9609 - val_loss: 0.0351 - val_accuracy: 0.9606\n",
      "Epoch 6/10\n",
      "7/7 [==============================] - 21s 3s/step - loss: 0.0369 - accuracy: 0.9601 - val_loss: 0.0369 - val_accuracy: 0.9606\n",
      "Epoch 7/10\n",
      "7/7 [==============================] - 22s 3s/step - loss: 0.0371 - accuracy: 0.9594 - val_loss: 0.0395 - val_accuracy: 0.9625\n",
      "Epoch 8/10\n",
      "7/7 [==============================] - 22s 3s/step - loss: 0.0378 - accuracy: 0.9601 - val_loss: 0.0365 - val_accuracy: 0.9588\n",
      "Epoch 9/10\n",
      "7/7 [==============================] - 22s 3s/step - loss: 0.0358 - accuracy: 0.9618 - val_loss: 0.0440 - val_accuracy: 0.9456\n",
      "Epoch 10/10\n",
      "7/7 [==============================] - 21s 3s/step - loss: 0.0373 - accuracy: 0.9589 - val_loss: 0.0354 - val_accuracy: 0.9644\n"
     ]
    }
   ],
   "source": [
    "model = malware_model()\n",
    "print(model.summary())\n",
    "model.compile(loss='mse', optimizer=\"rmsprop\",\n",
    "              metrics=['accuracy'])\n",
    "\n",
    "filepath = \"lstm-malware-model.hdf5\"\n",
    "model.load_weights(filepath)\n",
    "\n",
    "history = model.fit(X_train, Y_train, batch_size=1000, epochs=10,\n",
    "                    validation_data=(X_test, Y_test), verbose=1)"
   ]
  },
  {
   "cell_type": "markdown",
   "metadata": {},
   "source": [
    "## Model Evaluation"
   ]
  },
  {
   "cell_type": "markdown",
   "metadata": {},
   "source": [
    "Now, we have finished the training phase of the LSTM model. We can evaluate our model's classification performance using the confusion matrix. According to the confusion matrix, the model’s classification performance quite good."
   ]
  },
  {
   "cell_type": "code",
   "execution_count": 12,
   "metadata": {},
   "outputs": [
    {
     "data": {
      "image/png": "[encoded data removed]",
      "text/plain": [
       "<Figure size 432x288 with 2 Axes>"
      ]
     },
     "metadata": {
      "needs_background": "light"
     },
     "output_type": "display_data"
    }
   ],
   "source": [
    "y_test_pred = model.predict_classes(X_test)\n",
    "cm = confusion_matrix(Y_test, y_test_pred)\n",
    "\n",
    "plot_confusion_matrix(conf_mat=cm,\n",
    "                      show_absolute=True,\n",
    "                      show_normed=True,\n",
    "                      colorbar=True)\n",
    "plt.savefig(\"confusion_matrix.png\")\n",
    "plt.show()"
   ]
  },
  {
   "cell_type": "markdown",
   "metadata": {},
   "source": [
    "![Confusion matrix](confusion_matrix.png)\n",
    "\n",
    "Let's continue with the training history of our model."
   ]
  },
  {
   "cell_type": "code",
   "execution_count": 14,
   "metadata": {},
   "outputs": [
    {
     "data": {
      "image/png": "[encoded data removed]",
      "text/plain": [
       "<Figure size 432x288 with 1 Axes>"
      ]
     },
     "metadata": {
      "needs_background": "light"
     },
     "output_type": "display_data"
    },
    {
     "data": {
      "image/png": "[encoded data removed]",
      "text/plain": [
       "<Figure size 432x288 with 1 Axes>"
      ]
     },
     "metadata": {
      "needs_background": "light"
     },
     "output_type": "display_data"
    }
   ],
   "source": [
    "plt.plot(history.history['accuracy'])\n",
    "plt.plot(history.history['val_accuracy'])\n",
    "plt.title('model accuracy')\n",
    "plt.ylabel('accuracy')\n",
    "plt.xlabel('epoch')\n",
    "plt.legend(['train', 'test'], loc='upper left')\n",
    "plt.grid()\n",
    "plt.savefig(\"accuracy.png\")\n",
    "plt.show()\n",
    "\n",
    "plt.plot(history.history['loss'])\n",
    "plt.plot(history.history['val_loss'])\n",
    "plt.title('model loss')\n",
    "plt.ylabel('loss')\n",
    "plt.xlabel('epoch')\n",
    "plt.legend(['train', 'test'], loc='upper left')\n",
    "plt.grid()\n",
    "plt.savefig(\"loss.png\")\n",
    "plt.show()"
   ]
  },
  {
   "cell_type": "markdown",
   "metadata": {},
   "source": [
    "![Accuracy history](accuracy.png)\n",
    "![Loss history](loss.png)"
   ]
  },
  {
   "cell_type": "markdown",
   "metadata": {},
   "source": [
    "## Conclusion"
   ]
  },
  {
   "cell_type": "markdown",
   "metadata": {},
   "source": [
    "The purpose of this study was to create an LSTM based malware detection model using my previous malware dataset. Although our dataset contains instances that belong to some malware families with unbalanced distribution, we have shown that this problem does not affect classification performance."
   ]
  },
  {
   "cell_type": "code",
   "execution_count": null,
   "metadata": {},
   "outputs": [],
   "source": []
  }
 ],
 "metadata": {
  "kernelspec": {
   "display_name": "Python 3",
   "language": "python",
   "name": "python3"
  },
  "language_info": {
   "codemirror_mode": {
    "name": "ipython",
    "version": 3
   },
   "file_extension": ".py",
   "mimetype": "text/x-python",
   "name": "python",
   "nbconvert_exporter": "python",
   "pygments_lexer": "ipython3",
   "version": "3.7.6"
  }
 },
 "nbformat": 4,
 "nbformat_minor": 4
}
