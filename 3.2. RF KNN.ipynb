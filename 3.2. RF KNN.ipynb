{
  "nbformat": 4,
  "nbformat_minor": 0,
  "metadata": {
    "colab": {
      "provenance": [],
      "collapsed_sections": [],
      "machine_shape": "hm"
    },
    "kernelspec": {
      "name": "python3",
      "display_name": "Python 3"
    },
    "accelerator": "GPU"
  },
  "cells": [
    {
      "cell_type": "markdown",
      "metadata": {
        "id": "HUn9poz9Ls35"
      },
      "source": [
        "Load dataset"
      ]
    },
    {
      "cell_type": "code",
      "metadata": {
        "id": "4f370kOBJxfg"
      },
      "source": [
        "import pandas as pd\n",
        "import numpy as np\n",
        "\n",
        "train_df = pd.read_csv(r'/content/drive/My Drive/Colab Notebooks/per_api_amd_benign/train-0.csv', header=None, skiprows=1)\n",
        "val_df = pd.read_csv(r'/content/drive/My Drive/Colab Notebooks/per_api_amd_benign/file-0.csv', header=None, skiprows=1)\n",
        "test_df = pd.read_csv(r'/content/drive/My Drive/Colab Notebooks/per_api_amd_benign/file-1.csv', header=None, skiprows=1)\n",
        "\n",
        "train_x = np.array(train_df.iloc[:, 3:])\n",
        "train_y = np.array(train_df.iloc[:, 2])\n",
        "\n",
        "val_x = np.array(val_df.iloc[:, 3:])\n",
        "val_y = np.array(val_df.iloc[:, 2])\n",
        "\n",
        "test_x = np.array(test_df.iloc[:, 3:])\n",
        "test_y = np.array(test_df.iloc[:, 2])"
      ],
      "execution_count": null,
      "outputs": []
    },
    {
      "cell_type": "markdown",
      "metadata": {
        "id": "4YHFd3XUQyBJ"
      },
      "source": [
        "Random Forest Classifier"
      ]
    },
    {
      "cell_type": "code",
      "metadata": {
        "id": "cwaTGWW5QtI5",
        "colab": {
          "base_uri": "https://localhost:8080/"
        },
        "outputId": "66c63095-756b-45c2-e7a3-91ebc52b8b16"
      },
      "source": [
        "from sklearn.ensemble import RandomForestClassifier\n",
        "from sklearn.metrics import accuracy_score\n",
        "\n",
        "model_rfc10 = RandomForestClassifier(max_depth=10)\n",
        "history_rfc10 = model_rfc10.fit(train_x, train_y)\n",
        "y_pred_vc = model_rfc10.predict(test_x)\n",
        "accuracy = accuracy_score(test_y, y_pred_vc)\n",
        "print(\"RFC10:\", accuracy)\n",
        "\n",
        "model_rfc50 = RandomForestClassifier(max_depth=50)\n",
        "history_rfc50 = model_rfc50.fit(train_x, train_y)\n",
        "y_pred_vc = model_rfc50.predict(test_x)\n",
        "accuracy = accuracy_score(test_y, y_pred_vc)\n",
        "print(\"RFC50:\", accuracy)"
      ],
      "execution_count": null,
      "outputs": [
        {
          "output_type": "stream",
          "text": [
            "RFC10: 0.947209653092006\n",
            "RFC50: 0.967948717948718\n"
          ],
          "name": "stdout"
        }
      ]
    },
    {
      "cell_type": "code",
      "metadata": {
        "colab": {
          "base_uri": "https://localhost:8080/"
        },
        "id": "ZSr5OoJa9CFj",
        "outputId": "921b0aa0-fc4c-4a4b-e03c-753876e8ce3b"
      },
      "source": [
        "from sklearn.ensemble import AdaBoostClassifier\n",
        "abc = AdaBoostClassifier(n_estimators=228)\n",
        "abc.fit(train_x, train_y)\n",
        "y_pred_vc = abc.predict(test_x)\n",
        "accuracy = accuracy_score(test_y, y_pred_vc)\n",
        "print(\"ABC:\", accuracy)"
      ],
      "execution_count": null,
      "outputs": [
        {
          "output_type": "stream",
          "text": [
            "ABC: 0.3627450980392157\n"
          ],
          "name": "stdout"
        }
      ]
    },
    {
      "cell_type": "code",
      "metadata": {
        "colab": {
          "base_uri": "https://localhost:8080/"
        },
        "id": "wEG1qCmk7KMW",
        "outputId": "02d591f0-e003-4838-a70d-6696cdfbecd1"
      },
      "source": [
        "from sklearn.neighbors import KNeighborsClassifier\n",
        "neigh = KNeighborsClassifier(n_neighbors=228)\n",
        "neigh.fit(train_x, train_y)\n",
        "y_pred_vc = neigh.predict(test_x)\n",
        "accuracy = accuracy_score(test_y, y_pred_vc)\n",
        "print(\"KNN:\", accuracy)"
      ],
      "execution_count": null,
      "outputs": [
        {
          "output_type": "stream",
          "text": [
            "KNN: 0.8163650075414781\n"
          ],
          "name": "stdout"
        }
      ]
    },
    {
      "cell_type": "markdown",
      "metadata": {
        "id": "P1p2I36wL1D1"
      },
      "source": [
        "Voting Classifier"
      ]
    },
    {
      "cell_type": "markdown",
      "source": [
        "KNN"
      ],
      "metadata": {
        "id": "4RqQtvU74XyC"
      }
    },
    {
      "cell_type": "code",
      "metadata": {
        "colab": {
          "base_uri": "https://localhost:8080/"
        },
        "id": "xscl3FxvL4B1",
        "outputId": "fd5ed335-3c36-403b-989d-c735c07994c8"
      },
      "source": [
        "from sklearn.ensemble import VotingClassifier\n",
        "from sklearn.model_selection import GridSearchCV\n",
        "weights = [\n",
        "           [2, 2, 2, 2],\n",
        "           [2, 2, 2, 3],\n",
        "           [2, 2, 2, 4],\n",
        "           [2, 2, 2, 5],\n",
        "           [2, 2, 3, 2],\n",
        "           [2, 2, 3, 3],\n",
        "           [2, 2, 3, 4],\n",
        "           [2, 2, 3, 5],\n",
        "]\n",
        "for w in weights:\n",
        "  vc = VotingClassifier(\n",
        "      \n",
        "      # all classifiers we just gridsearched\n",
        "      estimators=[\n",
        "          ('KNN', neigh),\n",
        "          ('ABC', abc),\n",
        "          ('rfc10', history_rfc10),\n",
        "          ('rfc50', history_rfc50)\n",
        "      ], \n",
        "      \n",
        "      # soft = probabilities are taken into account\n",
        "      # hard = only the outcome counts\n",
        "      voting='soft',\n",
        "      # flatten_transform=True,\n",
        "      # you can add weights, as well. E.g.\n",
        "      weights= w,\n",
        "      \n",
        "  )\n",
        "  # gscv = GridSearchCV(vc, {\n",
        "  #     \"weights\": [\n",
        "  #                 [1,1,1,1],\n",
        "  #                 [1,1,2,3],\n",
        "  #                 [1,1,1,3],\n",
        "  #                 [1,1,2,5]\n",
        "  #     ]})\n",
        "\n",
        "  # fitting\n",
        "  vc.fit(train_x, train_y)\n",
        "\n",
        "  y_pred_vc = vc.predict(test_x)\n",
        "  accuracy = accuracy_score(test_y, y_pred_vc)\n",
        "  print(accuracy)"
      ],
      "execution_count": null,
      "outputs": [
        {
          "output_type": "stream",
          "text": [
            "0.9585218702865762\n",
            "0.9592760180995475\n",
            "0.9626696832579186\n",
            "0.9641779788838613\n",
            "0.9573906485671192\n",
            "0.9611613876319759\n",
            "0.9641779788838613\n",
            "0.9656862745098039\n"
          ],
          "name": "stdout"
        }
      ]
    },
    {
      "cell_type": "markdown",
      "source": [
        "logistic Regression"
      ],
      "metadata": {
        "id": "Dvz8q03s4ND7"
      }
    },
    {
      "cell_type": "code",
      "metadata": {
        "colab": {
          "base_uri": "https://localhost:8080/"
        },
        "id": "QjltfcLMPIH-",
        "outputId": "23473c99-b7c8-4804-9373-7459cafa9dd2"
      },
      "source": [
        "from sklearn.linear_model import LogisticRegression\n",
        "log_clf = LogisticRegression(solver=\"lbfgs\", random_state=228)\n",
        "log_clf.fit(train_x, train_y)\n",
        "y_pred_vc = log_clf.predict(test_x)\n",
        "accuracy = accuracy_score(test_y, y_pred_vc)\n",
        "print(accuracy)"
      ],
      "execution_count": null,
      "outputs": [
        {
          "output_type": "stream",
          "text": [
            "0.8985671191553545\n"
          ],
          "name": "stdout"
        },
        {
          "output_type": "stream",
          "text": [
            "/usr/local/lib/python3.6/dist-packages/sklearn/linear_model/_logistic.py:940: ConvergenceWarning: lbfgs failed to converge (status=1):\n",
            "STOP: TOTAL NO. of ITERATIONS REACHED LIMIT.\n",
            "\n",
            "Increase the number of iterations (max_iter) or scale the data as shown in:\n",
            "    https://scikit-learn.org/stable/modules/preprocessing.html\n",
            "Please also refer to the documentation for alternative solver options:\n",
            "    https://scikit-learn.org/stable/modules/linear_model.html#logistic-regression\n",
            "  extra_warning_msg=_LOGISTIC_SOLVER_CONVERGENCE_MSG)\n"
          ],
          "name": "stderr"
        }
      ]
    },
    {
      "cell_type": "markdown",
      "source": [
        "AdaBoost Classifier"
      ],
      "metadata": {
        "id": "XRHnOrke4Jga"
      }
    },
    {
      "cell_type": "code",
      "metadata": {
        "colab": {
          "base_uri": "https://localhost:8080/"
        },
        "id": "PGT1EzRzP0bV",
        "outputId": "7b4c08c3-5e22-40c7-d427-bafaa6387de9"
      },
      "source": [
        "from sklearn.ensemble import AdaBoostClassifier\n",
        "adc = AdaBoostClassifier(random_state=228)\n",
        "adc.fit(train_x, train_y)\n",
        "y_pred_vc = log_clf.predict(test_x)\n",
        "accuracy = accuracy_score(test_y, y_pred_vc)\n",
        "print(accuracy)"
      ],
      "execution_count": null,
      "outputs": [
        {
          "output_type": "stream",
          "text": [
            "0.8985671191553545\n"
          ],
          "name": "stdout"
        }
      ]
    },
    {
      "cell_type": "code",
      "metadata": {
        "colab": {
          "base_uri": "https://localhost:8080/"
        },
        "id": "bHlFjaOkULF_",
        "outputId": "869c0624-4711-4b50-b4f6-b02a3d1f0009"
      },
      "source": [
        "y_pred_vc = history_rfc10.predict(test_x)\n",
        "accuracy = accuracy_score(test_y, y_pred_vc)\n",
        "print(accuracy)\n",
        "\n",
        "\n",
        "y_pred_vc = history_rfc50.predict(test_x)\n",
        "accuracy = accuracy_score(test_y, y_pred_vc)\n",
        "print(accuracy)"
      ],
      "execution_count": null,
      "outputs": [
        {
          "output_type": "stream",
          "text": [
            "0.97473604826546\n",
            "0.9762443438914027\n"
          ],
          "name": "stdout"
        }
      ]
    }
  ]
}