{
  "nbformat": 4,
  "nbformat_minor": 0,
  "metadata": {
    "colab": {
      "private_outputs": true,
      "provenance": [],
      "collapsed_sections": []
    },
    "kernelspec": {
      "name": "python3",
      "display_name": "Python 3"
    },
    "language_info": {
      "name": "python"
    },
    "accelerator": "GPU",
    "gpuClass": "standard"
  },
  "cells": [
    {
      "cell_type": "code",
      "source": [
        "from google.colab import drive\n",
        "drive.mount('/content/drive')"
      ],
      "metadata": {
        "id": "A18AlPgNMVhh"
      },
      "execution_count": null,
      "outputs": []
    },
    {
      "cell_type": "code",
      "execution_count": null,
      "metadata": {
        "id": "NyqBI8euXW23"
      },
      "outputs": [],
      "source": [
        "!unzip \"/content/drive/MyDrive/Colab Notebooks/MalDroid 2020/static Features file JSON/Benign.zip\" -d \"/content/drive/MyDrive/Colab Notebooks/MalDroid 2020/static Features file JSON/Benign\""
      ]
    },
    {
      "cell_type": "code",
      "source": [
        "!unzip \"/content/drive/MyDrive/Colab Notebooks/MalDroid 2020/static Features file JSON/Adware.zip\" -d \"/content/drive/MyDrive/Colab Notebooks/MalDroid 2020/static Features file JSON/Adware\""
      ],
      "metadata": {
        "id": "ihf7fbvrMyJY"
      },
      "execution_count": null,
      "outputs": []
    },
    {
      "cell_type": "code",
      "source": [
        "!unzip \"/content/drive/MyDrive/Đồ án/SMS.zip\" -d \"/content/drive/MyDrive/Đồ án/SMS\""
      ],
      "metadata": {
        "id": "D1-F-p_eYtLq"
      },
      "execution_count": null,
      "outputs": []
    },
    {
      "cell_type": "code",
      "source": [
        "!unzip \"/content/drive/MyDrive/Đồ án/Riskware.zip\" -d \"/content/drive/MyDrive/Đồ án/Riskware\""
      ],
      "metadata": {
        "id": "8sCJ6Y9jYtbn"
      },
      "execution_count": null,
      "outputs": []
    },
    {
      "cell_type": "code",
      "source": [
        "!unzip \"/content/drive/MyDrive/Đồ án/Banking.zip\" -d \"/content/drive/MyDrive/Đồ án/Banking\""
      ],
      "metadata": {
        "id": "rnhenMjiiM5a"
      },
      "execution_count": null,
      "outputs": []
    },
    {
      "cell_type": "code",
      "source": [
        "import json\n",
        "\n",
        "def read_json(filename):\n",
        "  file_json = json.load(open(filename))\n",
        "  static_analysis = file_json['Static_analysis']\n",
        "  return (file_json['Pre_static_analysis']['Filename'], static_analysis['Permissions'], static_analysis['Opcodes'], static_analysis['API calls'], static_analysis['System commands'], static_analysis['Intents'])\n"
      ],
      "metadata": {
        "id": "ds_1viYmZWeQ"
      },
      "execution_count": null,
      "outputs": []
    },
    {
      "cell_type": "code",
      "source": [
        "import os\n",
        "\n",
        "def get_json_paths(path_to_json_dir):\n",
        "  return [pos_json for pos_json in os.listdir(path_to_json_dir) if pos_json.endswith('.json')]\n"
      ],
      "metadata": {
        "id": "6Q-H4Enebs0A"
      },
      "execution_count": null,
      "outputs": []
    },
    {
      "cell_type": "code",
      "source": [
        "permissions = set()\n",
        "opcodes = set()\n",
        "api_calls = set()\n",
        "system_commands = set()\n",
        "intents = set()"
      ],
      "metadata": {
        "id": "hN0kPjqtgeqA"
      },
      "execution_count": null,
      "outputs": []
    },
    {
      "cell_type": "code",
      "source": [
        "root_dir = \"/content/drive/MyDrive/Đồ án/\"\n",
        "dirs = ['Benign', 'SMS', 'Riskware', 'Banking', 'Adware']\n",
        "for dir in dirs:\n",
        "  dir_path = os.path.join(root_dir, dir)\n",
        "  jsons = get_json_paths(dir_path)\n",
        "  for j in jsons:\n",
        "    (_, permission, opcode, api_call, system_command, intent) = read_json(os.path.join(dir_path, j))\n",
        "    for p in permission:\n",
        "      permissions.add(p.upper())\n",
        "    for o in opcode: #for lấy key\n",
        "      opcodes.add(o)\n",
        "    for a in api_call: #for lấy key\n",
        "      api_calls.add(a)\n",
        "    for c in system_command: #for lấy key\n",
        "      system_commands.add(c)\n",
        "    for i in intent: #for lấy key\n",
        "      intents.add(i)"
      ],
      "metadata": {
        "id": "O1gqKyjvkC96"
      },
      "execution_count": null,
      "outputs": []
    },
    {
      "cell_type": "code",
      "source": [
        "def write_file(name, data):\n",
        "  f = open(name, \"w\")\n",
        "  for item in data:\n",
        "    f.write(item + \"\\n\")\n",
        "  f.close()"
      ],
      "metadata": {
        "id": "44LaaJzUvDr8"
      },
      "execution_count": null,
      "outputs": []
    },
    {
      "cell_type": "code",
      "source": [
        "write_file(os.path.join(root_dir, \"permissions.txt\"), permissions)\n",
        "write_file(os.path.join(root_dir, \"opcodes.txt\"), opcodes)\n",
        "write_file(os.path.join(root_dir, \"api_calls.txt\"), api_calls)\n",
        "write_file(os.path.join(root_dir, \"system_commands.txt\"), system_commands)\n",
        "write_file(os.path.join(root_dir, \"intents.txt\"), intents)"
      ],
      "metadata": {
        "id": "N8hHmNnzvNgT"
      },
      "execution_count": null,
      "outputs": []
    },
    {
      "cell_type": "code",
      "source": [
        "def read_file(name):\n",
        "  f = open(name, \"r\")\n",
        "  output = set()\n",
        "  myline = f.readline().strip()\n",
        "  while myline:\n",
        "    output.add(myline)\n",
        "    myline = f.readline().strip()\n",
        "  f.close()\n",
        "  return output"
      ],
      "metadata": {
        "id": "ppcDyzM4nPyd"
      },
      "execution_count": null,
      "outputs": []
    },
    {
      "cell_type": "code",
      "source": [
        "# tổng các đặc trưng (tên của api, của per, ...)\n",
        "permissions = read_file('/content/drive/MyDrive/Colab Notebooks/MalDroid 2020/static Features file JSON/permissions.txt')\n",
        "opcodes = read_file('/content/drive/MyDrive/Colab Notebooks/MalDroid 2020/static Features file JSON/opcodes.txt')\n",
        "api_calls = read_file('/content/drive/MyDrive/Colab Notebooks/MalDroid 2020/static Features file JSON/api_calls.txt')\n",
        "system_commands = read_file('/content/drive/MyDrive/Colab Notebooks/MalDroid 2020/static Features file JSON/system_commands.txt')\n",
        "intents = read_file('/content/drive/MyDrive/Colab Notebooks/MalDroid 2020/static Features file JSON/intents.txt')"
      ],
      "metadata": {
        "id": "lk4F89I_n7E8"
      },
      "execution_count": null,
      "outputs": []
    },
    {
      "cell_type": "code",
      "source": [
        "# chuyển đặc trưng của các file => dạng số\n",
        "import pandas as pd\n",
        "import numpy as np\n",
        "\n",
        "root_dir = \"/content/drive/MyDrive/Colab Notebooks/MalDroid 2020/static Features file JSON/\"\n",
        "# dirs = ['Benign', 'SMS', 'Riskware', 'Banking', 'Adware']\n",
        "dirs = ['Benign', 'Adware']\n",
        "header_permissions = [\"file_name\"] + list(permissions)\n",
        "header_opcodes = [\"file_name\"] + list(opcodes)\n",
        "header_api_calls = [\"file_name\"] + list(api_calls)\n",
        "header_system_commands = [\"file_name\"] + list(system_commands)\n",
        "header_intents = [\"file_name\"] + list(intents)\n",
        "\n",
        "for dir in dirs:\n",
        "  dir_path = os.path.join(root_dir, dir)\n",
        "  jsons = get_json_paths(dir_path)\n",
        "\n",
        "  df_permissions = pd.DataFrame([], columns=header_permissions)\n",
        "  df_opcodes = pd.DataFrame([], columns=header_opcodes)\n",
        "  df_api_calls = pd.DataFrame([], columns=header_api_calls)\n",
        "  df_system_commands = pd.DataFrame([], columns=header_system_commands)\n",
        "  df_intents = pd.DataFrame([], columns=header_intents)\n",
        "\n",
        "  length = len(jsons)\n",
        "  for idx, j in enumerate(jsons):\n",
        "    print(\"%d/%d\" % (idx, length))\n",
        "    ex_df_permissions = pd.DataFrame([[0]*len(header_permissions)], columns=header_permissions) # khởi tạo 1 dòng có độ dài = tổng permission, có cột có header là tên các permission\n",
        "    ex_df_opcodes = pd.DataFrame([[0]*len(header_opcodes)], columns=header_opcodes)\n",
        "    ex_df_api_calls = pd.DataFrame([[0]*len(header_api_calls)], columns=header_api_calls)\n",
        "    ex_df_system_commands = pd.DataFrame([[0]*len(header_system_commands)], columns=header_system_commands)\n",
        "    ex_df_intents = pd.DataFrame([[0]*len(header_intents)], columns=header_intents)\n",
        "\n",
        "    (file_name, permission, opcode, api_call, system_command, intent) = read_json(os.path.join(dir_path, j))\n",
        "    ex_df_permissions[\"file_name\"][0] = ex_df_opcodes[\"file_name\"][0] = ex_df_api_calls[\"file_name\"][0] = ex_df_system_commands[\"file_name\"][0] = ex_df_intents[\"file_name\"][0] = file_name\n",
        "    for p in permission: #đánh trọng số\n",
        "      if p != '':\n",
        "        ex_df_permissions[p.upper()][0] = 1\n",
        "    for o in opcode: #đánh trọng số\n",
        "      ex_df_opcodes[o][0] = opcode[o]\n",
        "    for a in api_call: # duyệt cấc api của từng file apk\n",
        "      ex_df_api_calls[a][0] = api_call[a]\n",
        "    for c in system_command: #đánh trọng số\n",
        "      ex_df_system_commands[c][0] = system_command[c]\n",
        "    for i in intent: #đánh trọng số\n",
        "      if i != '':\n",
        "        ex_df_intents[i][0] = intent[i]\n",
        "    \n",
        "    df_permissions = pd.concat([df_permissions, ex_df_permissions], ignore_index=True)\n",
        "    df_opcodes = pd.concat([df_opcodes, ex_df_opcodes], ignore_index=True)\n",
        "    df_api_calls = pd.concat([df_api_calls, ex_df_api_calls], ignore_index=True)\n",
        "    df_system_commands = pd.concat([df_system_commands, ex_df_system_commands], ignore_index=True)\n",
        "    df_intents = pd.concat([df_intents, ex_df_intents], ignore_index=True)\n",
        "\n",
        "  df_permissions.to_csv(os.path.join(root_dir, dir + \"_permissions.csv\"), index=True)\n",
        "  df_opcodes.to_csv(os.path.join(root_dir, dir + \"_opcodes.csv\"), index=True)\n",
        "  df_api_calls.to_csv(os.path.join(root_dir, dir + \"_api_calls.csv\"), index=True)\n",
        "  df_system_commands.to_csv(os.path.join(root_dir, dir + \"_system_commands.csv\"), index=True)\n",
        "  df_intents.to_csv(os.path.join(root_dir, dir + \"_intents.csv\"), index=True)"
      ],
      "metadata": {
        "id": "0Tyi8K3hwnhp"
      },
      "execution_count": null,
      "outputs": []
    }
  ]
}